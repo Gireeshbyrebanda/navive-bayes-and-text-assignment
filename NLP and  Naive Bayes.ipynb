{
 "cells": [
  {
   "cell_type": "code",
   "execution_count": 1,
   "id": "7b241125-35cb-4770-ba89-dfc1f43f54b6",
   "metadata": {},
   "outputs": [
    {
     "name": "stdout",
     "output_type": "stream",
     "text": [
      "<class 'pandas.core.frame.DataFrame'>\n",
      "RangeIndex: 2000 entries, 0 to 1999\n",
      "Data columns (total 2 columns):\n",
      " #   Column  Non-Null Count  Dtype \n",
      "---  ------  --------------  ----- \n",
      " 0   Data    2000 non-null   object\n",
      " 1   Labels  2000 non-null   object\n",
      "dtypes: object(2)\n",
      "memory usage: 31.4+ KB\n",
      "None\n",
      "                                                Data       Labels\n",
      "0  Path: cantaloupe.srv.cs.cmu.edu!magnesium.club...  alt.atheism\n",
      "1  Newsgroups: alt.atheism\\nPath: cantaloupe.srv....  alt.atheism\n",
      "2  Path: cantaloupe.srv.cs.cmu.edu!das-news.harva...  alt.atheism\n",
      "3  Path: cantaloupe.srv.cs.cmu.edu!magnesium.club...  alt.atheism\n",
      "4  Xref: cantaloupe.srv.cs.cmu.edu alt.atheism:53...  alt.atheism\n"
     ]
    }
   ],
   "source": [
    "import pandas as pd\n",
    "\n",
    "# Load the dataset\n",
    "df = pd.read_csv(r\"C:\\Users\\haree\\OneDrive\\Desktop\\blogs.csv\")\n",
    "\n",
    "# Display basic information about the dataset\n",
    "print(df.info())\n",
    "\n",
    "# Display the first few rows of the dataset\n",
    "print(df.head())"
   ]
  },
  {
   "cell_type": "code",
   "execution_count": 2,
   "id": "da25f01b-14ae-49ef-a438-5a0a8d16946c",
   "metadata": {},
   "outputs": [
    {
     "name": "stdout",
     "output_type": "stream",
     "text": [
      "                                        cleaned_text  \\\n",
      "0  path cantaloupesrvcscmuedumagnesiumclubcccmued...   \n",
      "1  newsgroups altatheism\\npath cantaloupesrvcscmu...   \n",
      "2  path cantaloupesrvcscmuedudasnewsharvardedunoc...   \n",
      "3  path cantaloupesrvcscmuedumagnesiumclubcccmued...   \n",
      "4  xref cantaloupesrvcscmuedu altatheism talkreli...   \n",
      "\n",
      "                                              tokens  \n",
      "0  [path, cantaloupesrvcscmuedumagnesiumclubcccmu...  \n",
      "1  [newsgroups, altatheism, path, cantaloupesrvcs...  \n",
      "2  [path, cantaloupesrvcscmuedudasnewsharvardedun...  \n",
      "3  [path, cantaloupesrvcscmuedumagnesiumclubcccmu...  \n",
      "4  [xref, cantaloupesrvcscmuedu, altatheism, talk...  \n"
     ]
    }
   ],
   "source": [
    "import re\n",
    "import nltk\n",
    "from nltk.corpus import stopwords\n",
    "from nltk.tokenize import word_tokenize\n",
    "from sklearn.feature_extraction.text import TfidfVectorizer\n",
    "from sklearn.preprocessing import LabelEncoder\n",
    "\n",
    "# Define a function to clean the text\n",
    "def clean_text(text):\n",
    "    text = text.lower()  # Convert to lowercase\n",
    "    text = re.sub(r'\\d+', '', text)  # Remove numbers\n",
    "    text = re.sub(r'[^\\w\\s]', '', text)  # Remove punctuation\n",
    "    return text\n",
    "\n",
    "# Apply the cleaning function to the 'Data' column\n",
    "df['cleaned_text'] = df['Data'].apply(clean_text)\n",
    "\n",
    "# Tokenization and removing stopwords\n",
    "stop_words = set(stopwords.words('english'))\n",
    "\n",
    "# Define a function to tokenize and remove stopwords\n",
    "def tokenize_and_remove_stopwords(text):\n",
    "    tokens = word_tokenize(text)\n",
    "    tokens = [word for word in tokens if word not in stop_words]\n",
    "    return tokens\n",
    "\n",
    "# Apply the tokenization function\n",
    "df['tokens'] = df['cleaned_text'].apply(tokenize_and_remove_stopwords)\n",
    "\n",
    "# Display the cleaned text and tokens\n",
    "print(df[['cleaned_text', 'tokens']].head())"
   ]
  },
  {
   "cell_type": "code",
   "execution_count": 3,
   "id": "3e32f78c-bb4f-4047-b30f-38d20b1cb975",
   "metadata": {},
   "outputs": [
    {
     "name": "stdout",
     "output_type": "stream",
     "text": [
      "(2000, 46428)\n"
     ]
    }
   ],
   "source": [
    "# Initialize the TF-IDF vectorizer\n",
    "vectorizer = TfidfVectorizer()\n",
    "\n",
    "# Fit and transform the cleaned text data\n",
    "X = vectorizer.fit_transform(df['cleaned_text'])\n",
    "\n",
    "# Display the shape of the TF-IDF matrix\n",
    "print(X.shape)"
   ]
  },
  {
   "cell_type": "code",
   "execution_count": 4,
   "id": "cd50220c-5aae-4541-b51a-97261be7c181",
   "metadata": {},
   "outputs": [
    {
     "name": "stdout",
     "output_type": "stream",
     "text": [
      "['alt.atheism' 'comp.graphics' 'comp.os.ms-windows.misc'\n",
      " 'comp.sys.ibm.pc.hardware' 'comp.sys.mac.hardware' 'comp.windows.x'\n",
      " 'misc.forsale' 'rec.autos' 'rec.motorcycles' 'rec.sport.baseball'\n",
      " 'rec.sport.hockey' 'sci.crypt' 'sci.electronics' 'sci.med' 'sci.space'\n",
      " 'soc.religion.christian' 'talk.politics.guns' 'talk.politics.mideast'\n",
      " 'talk.politics.misc' 'talk.religion.misc']\n"
     ]
    }
   ],
   "source": [
    "# Initialize the label encoder\n",
    "label_encoder = LabelEncoder()\n",
    "\n",
    "# Encode the target variable\n",
    "y = label_encoder.fit_transform(df['Labels'])\n",
    "\n",
    "# Display the encoded categories\n",
    "print(label_encoder.classes_)"
   ]
  },
  {
   "cell_type": "code",
   "execution_count": 5,
   "id": "34dcf5a8-b84f-4cd6-b6f2-b4bcbbfa296b",
   "metadata": {},
   "outputs": [
    {
     "name": "stdout",
     "output_type": "stream",
     "text": [
      "Training set size: (1600, 46428)\n",
      "Test set size: (400, 46428)\n"
     ]
    }
   ],
   "source": [
    "from sklearn.model_selection import train_test_split\n",
    "\n",
    "# Split the data into training and test sets\n",
    "X_train, X_test, y_train, y_test = train_test_split(X, y, test_size=0.2, random_state=42)\n",
    "\n",
    "# Display the shape of the training and test sets\n",
    "print(f\"Training set size: {X_train.shape}\")\n",
    "print(f\"Test set size: {X_test.shape}\")"
   ]
  },
  {
   "cell_type": "code",
   "execution_count": 6,
   "id": "e3bd055a-b993-472b-b27d-87a05ad975b9",
   "metadata": {},
   "outputs": [
    {
     "name": "stdout",
     "output_type": "stream",
     "text": [
      "Accuracy: 0.7475\n",
      "                          precision    recall  f1-score   support\n",
      "\n",
      "             alt.atheism       0.55      0.94      0.69        18\n",
      "           comp.graphics       0.82      0.78      0.80        18\n",
      " comp.os.ms-windows.misc       1.00      0.82      0.90        22\n",
      "comp.sys.ibm.pc.hardware       0.89      0.64      0.74        25\n",
      "   comp.sys.mac.hardware       0.87      0.62      0.72        21\n",
      "          comp.windows.x       1.00      0.64      0.78        25\n",
      "            misc.forsale       1.00      0.50      0.67        18\n",
      "               rec.autos       0.94      0.89      0.91        18\n",
      "         rec.motorcycles       0.87      0.81      0.84        16\n",
      "      rec.sport.baseball       0.79      0.83      0.81        18\n",
      "        rec.sport.hockey       0.83      1.00      0.91        15\n",
      "               sci.crypt       0.67      0.95      0.78        19\n",
      "         sci.electronics       0.46      0.81      0.59        16\n",
      "                 sci.med       0.88      0.82      0.85        17\n",
      "               sci.space       1.00      0.76      0.86        21\n",
      "  soc.religion.christian       0.79      1.00      0.88        23\n",
      "      talk.politics.guns       1.00      0.46      0.63        28\n",
      "   talk.politics.mideast       1.00      0.95      0.97        20\n",
      "      talk.politics.misc       0.31      0.94      0.47        18\n",
      "      talk.religion.misc       0.80      0.17      0.28        24\n",
      "\n",
      "                accuracy                           0.75       400\n",
      "               macro avg       0.82      0.77      0.76       400\n",
      "            weighted avg       0.84      0.75      0.75       400\n",
      "\n"
     ]
    }
   ],
   "source": [
    "from sklearn.naive_bayes import MultinomialNB\n",
    "from sklearn.metrics import classification_report, accuracy_score\n",
    "\n",
    "# Initialize the Naive Bayes classifier\n",
    "nb_classifier = MultinomialNB()\n",
    "\n",
    "# Train the model on the training set\n",
    "nb_classifier.fit(X_train, y_train)\n",
    "\n",
    "# Make predictions on the test set\n",
    "y_pred = nb_classifier.predict(X_test)\n",
    "\n",
    "# Evaluate the model\n",
    "accuracy = accuracy_score(y_test, y_pred)\n",
    "print(f\"Accuracy: {accuracy:.4f}\")\n",
    "\n",
    "# Display classification report\n",
    "print(classification_report(y_test, y_pred, target_names=label_encoder.classes_))"
   ]
  },
  {
   "cell_type": "code",
   "execution_count": 7,
   "id": "a2f3f3a2-7b42-4e9d-9406-9f632513cdfa",
   "metadata": {},
   "outputs": [],
   "source": [
    "import pandas as pd\n",
    "import re\n",
    "import nltk\n",
    "from nltk.corpus import stopwords\n",
    "from nltk.tokenize import word_tokenize\n",
    "from sklearn.feature_extraction.text import TfidfVectorizer\n",
    "from sklearn.preprocessing import LabelEncoder\n",
    "from sklearn.model_selection import train_test_split\n",
    "from sklearn.naive_bayes import MultinomialNB\n",
    "from sklearn.metrics import classification_report, accuracy_score"
   ]
  },
  {
   "cell_type": "code",
   "execution_count": 8,
   "id": "b4cbb31b-6a9a-4ac6-8649-aa81575080e2",
   "metadata": {},
   "outputs": [
    {
     "name": "stderr",
     "output_type": "stream",
     "text": [
      "[nltk_data] Downloading package stopwords to\n",
      "[nltk_data]     C:\\Users\\haree\\AppData\\Roaming\\nltk_data...\n",
      "[nltk_data]   Package stopwords is already up-to-date!\n",
      "[nltk_data] Downloading package punkt to\n",
      "[nltk_data]     C:\\Users\\haree\\AppData\\Roaming\\nltk_data...\n",
      "[nltk_data]   Package punkt is already up-to-date!\n"
     ]
    },
    {
     "data": {
      "text/plain": [
       "True"
      ]
     },
     "execution_count": 8,
     "metadata": {},
     "output_type": "execute_result"
    }
   ],
   "source": [
    "# Download necessary NLTK resources\n",
    "nltk.download('stopwords')\n",
    "nltk.download('punkt')\n"
   ]
  },
  {
   "cell_type": "code",
   "execution_count": 9,
   "id": "bd961e2a-5626-41cb-8488-643f1413b780",
   "metadata": {},
   "outputs": [
    {
     "name": "stdout",
     "output_type": "stream",
     "text": [
      "Accuracy: 0.7475\n",
      "                          precision    recall  f1-score   support\n",
      "\n",
      "             alt.atheism       0.55      0.94      0.69        18\n",
      "           comp.graphics       0.82      0.78      0.80        18\n",
      " comp.os.ms-windows.misc       1.00      0.82      0.90        22\n",
      "comp.sys.ibm.pc.hardware       0.89      0.64      0.74        25\n",
      "   comp.sys.mac.hardware       0.87      0.62      0.72        21\n",
      "          comp.windows.x       1.00      0.64      0.78        25\n",
      "            misc.forsale       1.00      0.50      0.67        18\n",
      "               rec.autos       0.94      0.89      0.91        18\n",
      "         rec.motorcycles       0.87      0.81      0.84        16\n",
      "      rec.sport.baseball       0.79      0.83      0.81        18\n",
      "        rec.sport.hockey       0.83      1.00      0.91        15\n",
      "               sci.crypt       0.67      0.95      0.78        19\n",
      "         sci.electronics       0.46      0.81      0.59        16\n",
      "                 sci.med       0.88      0.82      0.85        17\n",
      "               sci.space       1.00      0.76      0.86        21\n",
      "  soc.religion.christian       0.79      1.00      0.88        23\n",
      "      talk.politics.guns       1.00      0.46      0.63        28\n",
      "   talk.politics.mideast       1.00      0.95      0.97        20\n",
      "      talk.politics.misc       0.31      0.94      0.47        18\n",
      "      talk.religion.misc       0.80      0.17      0.28        24\n",
      "\n",
      "                accuracy                           0.75       400\n",
      "               macro avg       0.82      0.77      0.76       400\n",
      "            weighted avg       0.84      0.75      0.75       400\n",
      "\n"
     ]
    }
   ],
   "source": [
    "def clean_text(text):\n",
    "    text = text.lower()  # Convert to lowercase\n",
    "    text = re.sub(r'\\d+', '', text)  # Remove numbers\n",
    "    text = re.sub(r'[^\\w\\s]', '', text)  # Remove punctuation\n",
    "    return text\n",
    "\n",
    "# Apply the cleaning function to the 'Data' column\n",
    "df['cleaned_text'] = df['Data'].apply(clean_text)\n",
    "\n",
    "# Tokenization and removing stopwords\n",
    "stop_words = set(stopwords.words('english'))\n",
    "\n",
    "# Define a function to tokenize and remove stopwords\n",
    "def tokenize_and_remove_stopwords(text):\n",
    "    tokens = word_tokenize(text)\n",
    "    tokens = [word for word in tokens if word not in stop_words]\n",
    "    return tokens\n",
    "    # Apply the tokenization function\n",
    "df['tokens'] = df['cleaned_text'].apply(tokenize_and_remove_stopwords)\n",
    "\n",
    "# Initialize the TF-IDF vectorizer\n",
    "vectorizer = TfidfVectorizer()\n",
    "\n",
    "# Fit and transform the cleaned text data\n",
    "X = vectorizer.fit_transform(df['cleaned_text'])\n",
    "\n",
    "# Prepare the target variable\n",
    "label_encoder = LabelEncoder()\n",
    "y = label_encoder.fit_transform(df['Labels'])\n",
    "\n",
    "# Split the data into training and test sets\n",
    "X_train, X_test, y_train, y_test = train_test_split(X, y, test_size=0.2, random_state=42)\n",
    "\n",
    "# Initialize the Naive Bayes classifier\n",
    "nb_classifier = MultinomialNB()# Train the model on the training set\n",
    "nb_classifier.fit(X_train, y_train)\n",
    "\n",
    "# Make predictions on the test set\n",
    "y_pred = nb_classifier.predict(X_test)\n",
    "\n",
    "# Evaluate the model\n",
    "accuracy = accuracy_score(y_test, y_pred)\n",
    "print(f\"Accuracy: {accuracy:.4f}\")\n",
    "\n",
    "# Display classification report\n",
    "print(classification_report(y_test, y_pred, target_names=label_encoder.classes_))"
   ]
  },
  {
   "cell_type": "code",
   "execution_count": 10,
   "id": "874290ca-a860-4052-9582-cf372f4764e8",
   "metadata": {},
   "outputs": [],
   "source": [
    "from textblob import TextBlob\n",
    "import pandas as pd"
   ]
  },
  {
   "cell_type": "code",
   "execution_count": 11,
   "id": "b2d4bdae-b282-4e91-bdda-d6533c649245",
   "metadata": {},
   "outputs": [
    {
     "name": "stdout",
     "output_type": "stream",
     "text": [
      "Index(['Data', 'Labels', 'cleaned_text', 'tokens', 'sentiment_polarity',\n",
      "       'sentiment'],\n",
      "      dtype='object')\n",
      "                                                Data sentiment\n",
      "0  Path: cantaloupe.srv.cs.cmu.edu!magnesium.club...  positive\n",
      "1  Newsgroups: alt.atheism\\nPath: cantaloupe.srv....  negative\n",
      "2  Path: cantaloupe.srv.cs.cmu.edu!das-news.harva...  positive\n",
      "3  Path: cantaloupe.srv.cs.cmu.edu!magnesium.club...  positive\n",
      "4  Xref: cantaloupe.srv.cs.cmu.edu alt.atheism:53...  positive\n"
     ]
    }
   ],
   "source": [
    "# Define a function to get sentiment polarity\n",
    "def get_sentiment_polarity(text):\n",
    "    analysis = TextBlob(text)\n",
    "    return analysis.sentiment.polarity\n",
    "\n",
    "# Apply the sentiment function to the 'Data' column\n",
    "df['sentiment_polarity'] = df['Data'].apply(get_sentiment_polarity)\n",
    "\n",
    "# Categorize sentiments based on polarity scores\n",
    "def categorize_sentiment(polarity):\n",
    "    if polarity > 0:\n",
    "        return 'positive'\n",
    "    elif polarity < 0:\n",
    "        return 'negative'\n",
    "    else:\n",
    "        return 'neutral'\n",
    "\n",
    "df['sentiment'] = df['sentiment_polarity'].apply(categorize_sentiment)\n",
    "\n",
    "# Verify column names\n",
    "print(df.columns)\n",
    "\n",
    "# Display the first few rows with sentiment\n",
    "print(df[['Data', 'sentiment']].head())"
   ]
  },
  {
   "cell_type": "code",
   "execution_count": 12,
   "id": "58ec49f0-bbf2-400a-a1fa-2ab654c6c9f4",
   "metadata": {},
   "outputs": [
    {
     "name": "stdout",
     "output_type": "stream",
     "text": [
      "positive    1543\n",
      "negative     457\n",
      "Name: sentiment, dtype: int64\n"
     ]
    },
    {
     "data": {
      "image/png": "[encoded data removed]",
      "text/plain": [
       "<Figure size 640x480 with 1 Axes>"
      ]
     },
     "metadata": {},
     "output_type": "display_data"
    }
   ],
   "source": [
    "# Distribution of sentiments\n",
    "sentiment_distribution = df['sentiment'].value_counts()\n",
    "print(sentiment_distribution)\n",
    "\n",
    "# Optional: Display as a bar chart\n",
    "import matplotlib.pyplot as plt\n",
    "\n",
    "sentiment_distribution.plot(kind='bar', color=['blue', 'red', 'grey'])\n",
    "plt.title('Sentiment Distribution of Blog Posts')\n",
    "plt.xlabel('Sentiment')\n",
    "plt.ylabel('Count')\n",
    "plt.show()"
   ]
  },
  {
   "cell_type": "code",
   "execution_count": 13,
   "id": "8ba5077c-0474-4319-a448-698480fd3d57",
   "metadata": {},
   "outputs": [
    {
     "name": "stdout",
     "output_type": "stream",
     "text": [
      "Index(['Data', 'Labels', 'sentiment_score', 'sentiment'], dtype='object')\n",
      "                                                Data sentiment\n",
      "0  Path: cantaloupe.srv.cs.cmu.edu!magnesium.club...  negative\n",
      "1  Newsgroups: alt.atheism\\nPath: cantaloupe.srv....  positive\n",
      "2  Path: cantaloupe.srv.cs.cmu.edu!das-news.harva...  negative\n",
      "3  Path: cantaloupe.srv.cs.cmu.edu!magnesium.club...  negative\n",
      "4  Xref: cantaloupe.srv.cs.cmu.edu alt.atheism:53...  positive\n",
      "positive    1359\n",
      "negative     609\n",
      "neutral       32\n",
      "Name: sentiment, dtype: int64\n"
     ]
    },
    {
     "data": {
      "image/png": "[encoded data removed]",
      "text/plain": [
       "<Figure size 640x480 with 1 Axes>"
      ]
     },
     "metadata": {},
     "output_type": "display_data"
    }
   ],
   "source": [
    "from vaderSentiment.vaderSentiment import SentimentIntensityAnalyzer\n",
    "import pandas as pd\n",
    "\n",
    "# Load the dataset\n",
    "df = pd.read_csv(r\"C:\\Users\\haree\\OneDrive\\Desktop\\blogs.csv\")\n",
    "\n",
    "# Initialize the VADER sentiment analyzer\n",
    "analyzer = SentimentIntensityAnalyzer()\n",
    "\n",
    "# Define a function to get sentiment score using VADER\n",
    "def get_vader_sentiment(text):\n",
    "    score = analyzer.polarity_scores(text)\n",
    "    return score['compound']\n",
    "\n",
    "# Apply the sentiment function to the 'Data' column\n",
    "df['sentiment_score'] = df['Data'].apply(get_vader_sentiment)\n",
    "# Categorize sentiments based on the compound score\n",
    "def categorize_vader_sentiment(score):\n",
    "    if score > 0.05:\n",
    "        return 'positive'\n",
    "    elif score < -0.05:\n",
    "        return 'negative'\n",
    "    else:\n",
    "        return 'neutral'\n",
    "\n",
    "df['sentiment'] = df['sentiment_score'].apply(categorize_vader_sentiment)\n",
    "\n",
    "# Verify column names\n",
    "print(df.columns)\n",
    "\n",
    "# Display the first few rows with sentiment\n",
    "print(df[['Data', 'sentiment']].head())\n",
    "\n",
    "# Distribution of sentiments\n",
    "sentiment_distribution = df['sentiment'].value_counts()\n",
    "print(sentiment_distribution)\n",
    "# Optional: Display as a bar chart\n",
    "import matplotlib.pyplot as plt\n",
    "\n",
    "sentiment_distribution.plot(kind='bar', color=['blue', 'red', 'grey'])\n",
    "plt.title('Sentiment Distribution of Blog Posts')\n",
    "plt.xlabel('Sentiment')\n",
    "plt.ylabel('Count')\n",
    "plt.show()"
   ]
  },
  {
   "cell_type": "code",
   "execution_count": 14,
   "id": "c4d4dd3e-66e6-40dd-bebb-9e0948a4bacb",
   "metadata": {},
   "outputs": [
    {
     "name": "stdout",
     "output_type": "stream",
     "text": [
      "Accuracy: 0.7475\n",
      "                          precision    recall  f1-score   support\n",
      "\n",
      "             alt.atheism       0.55      0.94      0.69        18\n",
      "           comp.graphics       0.82      0.78      0.80        18\n",
      " comp.os.ms-windows.misc       1.00      0.82      0.90        22\n",
      "comp.sys.ibm.pc.hardware       0.89      0.64      0.74        25\n",
      "   comp.sys.mac.hardware       0.87      0.62      0.72        21\n",
      "          comp.windows.x       1.00      0.64      0.78        25\n",
      "            misc.forsale       1.00      0.50      0.67        18\n",
      "               rec.autos       0.94      0.89      0.91        18\n",
      "         rec.motorcycles       0.87      0.81      0.84        16\n",
      "      rec.sport.baseball       0.79      0.83      0.81        18\n",
      "        rec.sport.hockey       0.83      1.00      0.91        15\n",
      "               sci.crypt       0.67      0.95      0.78        19\n",
      "         sci.electronics       0.46      0.81      0.59        16\n",
      "                 sci.med       0.88      0.82      0.85        17\n",
      "               sci.space       1.00      0.76      0.86        21\n",
      "  soc.religion.christian       0.79      1.00      0.88        23\n",
      "      talk.politics.guns       1.00      0.46      0.63        28\n",
      "   talk.politics.mideast       1.00      0.95      0.97        20\n",
      "      talk.politics.misc       0.31      0.94      0.47        18\n",
      "      talk.religion.misc       0.80      0.17      0.28        24\n",
      "\n",
      "                accuracy                           0.75       400\n",
      "               macro avg       0.82      0.77      0.76       400\n",
      "            weighted avg       0.84      0.75      0.75       400\n",
      "\n"
     ]
    }
   ],
   "source": [
    "from sklearn.metrics import classification_report, accuracy_score\n",
    "\n",
    "# Evaluate the model\n",
    "accuracy = accuracy_score(y_test, y_pred)\n",
    "print(f\"Accuracy: {accuracy:.4f}\")\n",
    "\n",
    "# Display classification report\n",
    "report = classification_report(y_test, y_pred, target_names=label_encoder.classes_)\n",
    "print(report)"
   ]
  },
  {
   "cell_type": "code",
   "execution_count": 15,
   "id": "45bfb4a5-cd27-4c94-bf0f-8e3bcc92b7c6",
   "metadata": {},
   "outputs": [
    {
     "name": "stdout",
     "output_type": "stream",
     "text": [
      "positive    1359\n",
      "negative     609\n",
      "neutral       32\n",
      "Name: sentiment, dtype: int64\n"
     ]
    },
    {
     "data": {
      "image/png": "[encoded data removed]",
      "text/plain": [
       "<Figure size 640x480 with 1 Axes>"
      ]
     },
     "metadata": {},
     "output_type": "display_data"
    }
   ],
   "source": [
    "# Display sentiment distribution\n",
    "sentiment_distribution = df['sentiment'].value_counts()\n",
    "print(sentiment_distribution)\n",
    "\n",
    "# Optional: Display as a bar chart\n",
    "import matplotlib.pyplot as plt\n",
    "\n",
    "sentiment_distribution.plot(kind='bar', color=['blue', 'red', 'grey'])\n",
    "plt.title('Sentiment Distribution of Blog Posts')\n",
    "plt.xlabel('Sentiment')\n",
    "plt.ylabel('Count')\n",
    "plt.show()"
   ]
  },
  {
   "cell_type": "code",
   "execution_count": null,
   "id": "a3927380-b301-4557-b204-119fee7a8df2",
   "metadata": {},
   "outputs": [],
   "source": []
  }
 ],
 "metadata": {
  "kernelspec": {
   "display_name": "Python 3 (ipykernel)",
   "language": "python",
   "name": "python3"
  },
  "language_info": {
   "codemirror_mode": {
    "name": "ipython",
    "version": 3
   },
   "file_extension": ".py",
   "mimetype": "text/x-python",
   "name": "python",
   "nbconvert_exporter": "python",
   "pygments_lexer": "ipython3",
   "version": "3.11.7"
  }
 },
 "nbformat": 4,
 "nbformat_minor": 5
}
